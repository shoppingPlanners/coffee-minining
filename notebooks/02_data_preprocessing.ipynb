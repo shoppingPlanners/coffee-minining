{
 "cells": [
  {
   "cell_type": "code",
   "execution_count": 1,
   "id": "006b91ec",
   "metadata": {
    "execution": {
     "iopub.execute_input": "2025-10-03T12:08:47.787923Z",
     "iopub.status.busy": "2025-10-03T12:08:47.787552Z",
     "iopub.status.idle": "2025-10-03T12:08:49.238725Z",
     "shell.execute_reply": "2025-10-03T12:08:49.238288Z"
    }
   },
   "outputs": [
    {
     "name": "stdout",
     "output_type": "stream",
     "text": [
      "Initial shape: (10010, 16)\n",
      "<class 'pandas.core.frame.DataFrame'>\n",
      "RangeIndex: 10010 entries, 0 to 10009\n",
      "Data columns (total 16 columns):\n",
      " #   Column                   Non-Null Count  Dtype  \n",
      "---  ------                   --------------  -----  \n",
      " 0   ID                       10010 non-null  int64  \n",
      " 1   Age                      10009 non-null  float64\n",
      " 2   Gender                   10008 non-null  object \n",
      " 3   Country                  10008 non-null  object \n",
      " 4   Coffee_Intake            10009 non-null  float64\n",
      " 5   Caffeine_mg              10008 non-null  float64\n",
      " 6   Sleep_Hours              10008 non-null  float64\n",
      " 7   Sleep_Quality            10009 non-null  object \n",
      " 8   BMI                      10009 non-null  float64\n",
      " 9   Heart_Rate               10009 non-null  float64\n",
      " 10  Stress_Level             10008 non-null  object \n",
      " 11  Physical_Activity_Hours  10009 non-null  float64\n",
      " 12  Health_Issues            4066 non-null   object \n",
      " 13  Occupation               10009 non-null  object \n",
      " 14  Smoking                  10009 non-null  float64\n",
      " 15  Alcohol_Consumption      10009 non-null  float64\n",
      "dtypes: float64(9), int64(1), object(6)\n",
      "memory usage: 1.2+ MB\n",
      "None\n",
      "   ID   Age  Gender  Country  Coffee_Intake  Caffeine_mg  Sleep_Hours  \\\n",
      "0   1  40.0    Male  Germany            3.5        328.1          7.5   \n",
      "1   2  33.0    Male  Germany            1.0         94.1          6.2   \n",
      "2   3  42.0    Male   Brazil            5.3        503.7          5.9   \n",
      "3   4  53.0    Male  Germany            2.6        249.2          7.3   \n",
      "4   5  32.0  Female    Spain            3.1        298.0          5.3   \n",
      "\n",
      "  Sleep_Quality   BMI  Heart_Rate Stress_Level  Physical_Activity_Hours  \\\n",
      "0          Good  24.9        78.0          Low                     14.5   \n",
      "1          Good  20.0        67.0          Low                     11.0   \n",
      "2          Fair  22.7        59.0       Medium                     11.2   \n",
      "3          Good  24.7        71.0          Low                      6.6   \n",
      "4          Fair  24.1        76.0       Medium                      8.5   \n",
      "\n",
      "  Health_Issues Occupation  Smoking  Alcohol_Consumption  \n",
      "0           NaN      Other      0.0                  0.0  \n",
      "1           NaN    Service      0.0                  0.0  \n",
      "2          Mild     Office      0.0                  0.0  \n",
      "3          Mild      Other      0.0                  0.0  \n",
      "4          Mild    Student      0.0                  1.0  \n"
     ]
    }
   ],
   "source": [
    "import pandas as pd\n",
    "import numpy as np\n",
    "import matplotlib.pyplot as plt\n",
    "import seaborn as sns\n",
    "from sklearn.preprocessing import LabelEncoder, MinMaxScaler\n",
    "\n",
    "DATA_PATH = \"../data/raw/synthetic_coffee_health_10000.csv\"\n",
    "df = pd.read_csv(DATA_PATH)\n",
    "\n",
    "print(\"Initial shape:\", df.shape)\n",
    "print(df.info())\n",
    "print(df.head())"
   ]
  },
  {
   "cell_type": "code",
   "execution_count": 2,
   "id": "96a2b78b",
   "metadata": {
    "execution": {
     "iopub.execute_input": "2025-10-03T12:08:49.240449Z",
     "iopub.status.busy": "2025-10-03T12:08:49.240296Z",
     "iopub.status.idle": "2025-10-03T12:08:49.265930Z",
     "shell.execute_reply": "2025-10-03T12:08:49.265573Z"
    }
   },
   "outputs": [
    {
     "name": "stdout",
     "output_type": "stream",
     "text": [
      "\n",
      "Missing values per column:\n",
      "ID                            0\n",
      "Age                           1\n",
      "Gender                        2\n",
      "Country                       2\n",
      "Coffee_Intake                 1\n",
      "Caffeine_mg                   2\n",
      "Sleep_Hours                   2\n",
      "Sleep_Quality                 1\n",
      "BMI                           1\n",
      "Heart_Rate                    1\n",
      "Stress_Level                  2\n",
      "Physical_Activity_Hours       1\n",
      "Health_Issues              5944\n",
      "Occupation                    1\n",
      "Smoking                       1\n",
      "Alcohol_Consumption           1\n",
      "dtype: int64\n"
     ]
    }
   ],
   "source": [
    "print(\"\\nMissing values per column:\")\n",
    "print(df.isnull().sum())\n",
    "\n",
    "df = df.dropna(how=\"all\")  \n",
    "df = df.fillna(df.median(numeric_only=True))  \n",
    "df = df.fillna(df.mode().iloc[0])             \n"
   ]
  },
  {
   "cell_type": "code",
   "execution_count": 3,
   "id": "ca26dabb",
   "metadata": {
    "execution": {
     "iopub.execute_input": "2025-10-03T12:08:49.267553Z",
     "iopub.status.busy": "2025-10-03T12:08:49.267436Z",
     "iopub.status.idle": "2025-10-03T12:08:49.279197Z",
     "shell.execute_reply": "2025-10-03T12:08:49.278873Z"
    }
   },
   "outputs": [
    {
     "name": "stdout",
     "output_type": "stream",
     "text": [
      "\n",
      "Categorical Columns Unique Values:\n",
      "========================================\n",
      "Gender: 3 unique values\n",
      "  Values: ['Male' 'Female' 'Other']\n",
      "Country: 20 unique values\n",
      "Sleep_Quality: 4 unique values\n",
      "  Values: ['Good' 'Fair' 'Excellent' 'Poor']\n",
      "Stress_Level: 3 unique values\n",
      "  Values: ['Low' 'Medium' 'High']\n",
      "Health_Issues: 3 unique values\n",
      "  Values: ['Mild' 'Moderate' 'Severe']\n",
      "Occupation: 5 unique values\n",
      "  Values: ['Other' 'Service' 'Office' 'Student' 'Healthcare']\n"
     ]
    }
   ],
   "source": [
    "print(\"\\nCategorical Columns Unique Values:\")\n",
    "print(\"=\"*40)\n",
    "categorical_cols = df.select_dtypes(include=['object']).columns\n",
    "for col in categorical_cols:\n",
    "    print(f\"{col}: {df[col].nunique()} unique values\")\n",
    "    if df[col].nunique() <= 10:\n",
    "        print(f\"  Values: {df[col].unique()}\")"
   ]
  },
  {
   "cell_type": "code",
   "execution_count": 4,
   "id": "901f69fc",
   "metadata": {
    "execution": {
     "iopub.execute_input": "2025-10-03T12:08:49.280658Z",
     "iopub.status.busy": "2025-10-03T12:08:49.280549Z",
     "iopub.status.idle": "2025-10-03T12:08:49.299049Z",
     "shell.execute_reply": "2025-10-03T12:08:49.298706Z"
    }
   },
   "outputs": [
    {
     "name": "stdout",
     "output_type": "stream",
     "text": [
      "Duplicates before: 2\n",
      "Duplicates after: 0\n"
     ]
    }
   ],
   "source": [
    "print(\"Duplicates before:\", df.duplicated().sum())\n",
    "df = df.drop_duplicates()\n",
    "print(\"Duplicates after:\", df.duplicated().sum())"
   ]
  },
  {
   "cell_type": "code",
   "execution_count": 5,
   "id": "deceb094",
   "metadata": {
    "execution": {
     "iopub.execute_input": "2025-10-03T12:08:49.300504Z",
     "iopub.status.busy": "2025-10-03T12:08:49.300393Z",
     "iopub.status.idle": "2025-10-03T12:08:49.302547Z",
     "shell.execute_reply": "2025-10-03T12:08:49.302222Z"
    }
   },
   "outputs": [],
   "source": [
    "if \"health_risk\" in df.columns:\n",
    "    df[\"health_risk\"] = df[\"health_risk\"].astype(\"category\")"
   ]
  },
  {
   "cell_type": "code",
   "execution_count": 6,
   "id": "25f2b890",
   "metadata": {
    "execution": {
     "iopub.execute_input": "2025-10-03T12:08:49.303963Z",
     "iopub.status.busy": "2025-10-03T12:08:49.303856Z",
     "iopub.status.idle": "2025-10-03T12:08:49.317337Z",
     "shell.execute_reply": "2025-10-03T12:08:49.317004Z"
    }
   },
   "outputs": [],
   "source": [
    "numeric_cols = df.select_dtypes(include=np.number).columns\n",
    "\n",
    "for col in numeric_cols:\n",
    "    Q1 = df[col].quantile(0.25)\n",
    "    Q3 = df[col].quantile(0.75)\n",
    "    IQR = Q3 - Q1\n",
    "    lower, upper = Q1 - 1.5*IQR, Q3 + 1.5*IQR\n",
    "    df[col] = np.where(df[col] < lower, lower,\n",
    "              np.where(df[col] > upper, upper, df[col]))"
   ]
  },
  {
   "cell_type": "code",
   "execution_count": 7,
   "id": "1cc48b1e",
   "metadata": {
    "execution": {
     "iopub.execute_input": "2025-10-03T12:08:49.318767Z",
     "iopub.status.busy": "2025-10-03T12:08:49.318660Z",
     "iopub.status.idle": "2025-10-03T12:08:49.321158Z",
     "shell.execute_reply": "2025-10-03T12:08:49.320862Z"
    }
   },
   "outputs": [],
   "source": [
    "label_encoders = {}\n",
    "for col in df.select_dtypes(include=\"category\").columns:\n",
    "    le = LabelEncoder()\n",
    "    df[col] = le.fit_transform(df[col])\n",
    "    label_encoders[col] = le"
   ]
  },
  {
   "cell_type": "code",
   "execution_count": 8,
   "id": "95381b55",
   "metadata": {
    "execution": {
     "iopub.execute_input": "2025-10-03T12:08:49.322582Z",
     "iopub.status.busy": "2025-10-03T12:08:49.322475Z",
     "iopub.status.idle": "2025-10-03T12:08:49.329473Z",
     "shell.execute_reply": "2025-10-03T12:08:49.329163Z"
    }
   },
   "outputs": [],
   "source": [
    "scaler = MinMaxScaler()\n",
    "scaled_cols = df.select_dtypes(include=np.number).columns.drop(\"health_risk\") \\\n",
    "               if \"health_risk\" in df.columns else df.select_dtypes(include=np.number).columns\n",
    "df[scaled_cols] = scaler.fit_transform(df[scaled_cols])\n",
    "\n",
    "df_clean = df.copy()"
   ]
  },
  {
   "cell_type": "code",
   "execution_count": 9,
   "id": "161a93b3",
   "metadata": {
    "execution": {
     "iopub.execute_input": "2025-10-03T12:08:49.330947Z",
     "iopub.status.busy": "2025-10-03T12:08:49.330838Z",
     "iopub.status.idle": "2025-10-03T12:08:49.334750Z",
     "shell.execute_reply": "2025-10-03T12:08:49.334436Z"
    }
   },
   "outputs": [
    {
     "name": "stdout",
     "output_type": "stream",
     "text": [
      "Health_Issues encoding:\n",
      "  Mild: 0\n",
      "  Moderate: 1\n",
      "  Severe: 2\n"
     ]
    }
   ],
   "source": [
    "if \"Health_Issues\" in df_clean.columns:\n",
    "    le_target = LabelEncoder()\n",
    "    df_clean['Health_Issues_encoded'] = le_target.fit_transform(df_clean['Health_Issues'])\n",
    "    print(\"Health_Issues encoding:\")\n",
    "    for i, val in enumerate(le_target.classes_):\n",
    "        print(f\"  {val}: {i}\")"
   ]
  },
  {
   "cell_type": "code",
   "execution_count": 10,
   "id": "af00c549",
   "metadata": {
    "execution": {
     "iopub.execute_input": "2025-10-03T12:08:49.336211Z",
     "iopub.status.busy": "2025-10-03T12:08:49.336106Z",
     "iopub.status.idle": "2025-10-03T12:08:49.338183Z",
     "shell.execute_reply": "2025-10-03T12:08:49.337886Z"
    }
   },
   "outputs": [],
   "source": [
    "\n",
    "\n",
    "# # Check for duplicates\n",
    "# print(f\"Duplicate rows: {df_clean.duplicated().sum()}\")\n",
    "\n",
    "# # Remove duplicates if any\n",
    "# df_clean = df_clean.drop_duplicates()\n",
    "# print(f\"Dataset shape after removing duplicates: {df_clean.shape}\")\n",
    "\n",
    "# # Check for outliers in numerical columns\n",
    "# numerical_cols = df_clean.select_dtypes(include=[np.number]).columns\n",
    "# print(\"\\nOutlier Analysis:\")\n",
    "# print(\"=\"*30)\n",
    "\n",
    "# for col in numerical_cols:\n",
    "#     Q1 = df_clean[col].quantile(0.25)\n",
    "#     Q3 = df_clean[col].quantile(0.75)\n",
    "#     IQR = Q3 - Q1\n",
    "#     lower_bound = Q1 - 1.5 * IQR\n",
    "#     upper_bound = Q3 + 1.5 * IQR\n",
    "#     outliers = df_clean[(df_clean[col] < lower_bound) | (df_clean[col] > upper_bound)]\n",
    "#     print(f\"{col}: {len(outliers)} outliers ({len(outliers)/len(df_clean)*100:.2f}%)\")\n"
   ]
  },
  {
   "cell_type": "code",
   "execution_count": 11,
   "id": "a14fa199",
   "metadata": {
    "execution": {
     "iopub.execute_input": "2025-10-03T12:08:49.339628Z",
     "iopub.status.busy": "2025-10-03T12:08:49.339518Z",
     "iopub.status.idle": "2025-10-03T12:08:49.341498Z",
     "shell.execute_reply": "2025-10-03T12:08:49.341198Z"
    }
   },
   "outputs": [],
   "source": [
    "# # Handle categorical variables - encode them\n",
    "# le_dict = {}\n",
    "\n",
    "# for col in categorical_cols:\n",
    "#     if col != 'Health_Issues':  # Don't encode target variable yet\n",
    "#         le = LabelEncoder()\n",
    "#         df_clean[col + '_encoded'] = le.fit_transform(df_clean[col])\n",
    "#         le_dict[col] = le\n",
    "#         print(f\"{col} encoding:\")\n",
    "#         for i, val in enumerate(le.classes_):\n",
    "#             print(f\"  {val}: {i}\")\n",
    "#         print()\n",
    "\n",
    "# # Encode target variable\n",
    "# le_target = LabelEncoder()\n",
    "# df_clean['Health_Issues_encoded'] = le_target.fit_transform(df_clean['Health_Issues'])\n",
    "# print(\"Health_Issues encoding:\")\n",
    "# for i, val in enumerate(le_target.classes_):\n",
    "#     print(f\"  {val}: {i}\")\n"
   ]
  },
  {
   "cell_type": "code",
   "execution_count": 12,
   "id": "dce5d24e",
   "metadata": {
    "execution": {
     "iopub.execute_input": "2025-10-03T12:08:49.342852Z",
     "iopub.status.busy": "2025-10-03T12:08:49.342750Z",
     "iopub.status.idle": "2025-10-03T12:08:49.462497Z",
     "shell.execute_reply": "2025-10-03T12:08:49.462167Z"
    }
   },
   "outputs": [
    {
     "name": "stdout",
     "output_type": "stream",
     "text": [
      "\n",
      "Cleaned dataset saved to ../data/processed/coffee_health_cleaned.csv\n",
      "Final shape: (10008, 16)\n"
     ]
    }
   ],
   "source": [
    "OUTPUT_PATH = \"../data/processed/coffee_health_cleaned.csv\"\n",
    "df.to_csv(OUTPUT_PATH, index=False)\n",
    "\n",
    "print(f\"\\nCleaned dataset saved to {OUTPUT_PATH}\")\n",
    "print(\"Final shape:\", df.shape)"
   ]
  }
 ],
 "metadata": {
  "kernelspec": {
   "display_name": "base",
   "language": "python",
   "name": "python3"
  },
  "language_info": {
   "codemirror_mode": {
    "name": "ipython",
    "version": 3
   },
   "file_extension": ".py",
   "mimetype": "text/x-python",
   "name": "python",
   "nbconvert_exporter": "python",
   "pygments_lexer": "ipython3",
   "version": "3.12.2"
  }
 },
 "nbformat": 4,
 "nbformat_minor": 5
}
