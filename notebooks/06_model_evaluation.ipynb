{
 "cells": [
  {
   "cell_type": "code",
   "execution_count": 1,
   "id": "ee1d7174",
   "metadata": {
    "execution": {
     "iopub.execute_input": "2025-09-30T20:02:16.706716Z",
     "iopub.status.busy": "2025-09-30T20:02:16.706168Z",
     "iopub.status.idle": "2025-09-30T20:02:18.082945Z",
     "shell.execute_reply": "2025-09-30T20:02:18.082398Z"
    }
   },
   "outputs": [],
   "source": [
    "import pandas as pd\n",
    "import numpy as np\n",
    "import matplotlib.pyplot as plt\n",
    "import seaborn as sns\n",
    "from sklearn.metrics import confusion_matrix, classification_report, roc_curve, auc, RocCurveDisplay\n",
    "from sklearn.preprocessing import LabelBinarizer, LabelEncoder\n",
    "from sklearn.model_selection import train_test_split\n",
    "from sklearn.preprocessing import StandardScaler\n",
    "import joblib  \n",
    "sns.set(style=\"whitegrid\")"
   ]
  },
  {
   "cell_type": "code",
   "execution_count": null,
   "id": "d887fab4",
   "metadata": {
    "execution": {
     "iopub.execute_input": "2025-09-30T20:02:18.085480Z",
     "iopub.status.busy": "2025-09-30T20:02:18.085030Z",
     "iopub.status.idle": "2025-09-30T20:02:18.147056Z",
     "shell.execute_reply": "2025-09-30T20:02:18.146607Z"
    }
   },
   "outputs": [
    {
     "name": "stderr",
     "output_type": "stream",
     "text": [
      "/opt/anaconda3/lib/python3.12/site-packages/sklearn/base.py:440: InconsistentVersionWarning: Trying to unpickle estimator StandardScaler from version 1.7.1 when using version 1.7.0. This might lead to breaking code or invalid results. Use at your own risk. For more info please refer to:\n",
      "https://scikit-learn.org/stable/model_persistence.html#security-maintainability-limitations\n",
      "  warnings.warn(\n"
     ]
    }
   ],
   "source": [
    "DATA_PATH = \"../data/raw/synthetic_coffee_health_10000.csv\"\n",
    "df = pd.read_csv(DATA_PATH)\n",
    "\n",
    "df.fillna({\n",
    "    'Gender': df['Gender'].mode()[0],\n",
    "    'Country': df['Country'].mode()[0],\n",
    "    'Sleep_Quality': df['Sleep_Quality'].mode()[0],\n",
    "    'Occupation': df['Occupation'].mode()[0],\n",
    "    'Smoking': df['Smoking'].mode()[0],\n",
    "    'Alcohol_Consumption': df['Alcohol_Consumption'].mode()[0]\n",
    "}, inplace=True)\n",
    "\n",
    "from sklearn.preprocessing import LabelEncoder\n",
    "categorical_cols = ['Gender', 'Country', 'Sleep_Quality', 'Occupation', 'Smoking', 'Alcohol_Consumption', 'Stress_Level']\n",
    "for col in categorical_cols:\n",
    "    le = LabelEncoder()\n",
    "    df[col] = le.fit_transform(df[col])\n",
    "\n",
    "df['BMI_Category'] = pd.cut(df['BMI'], bins=[0,18.5,24.9,29.9,100], labels=['Underweight','Normal','Overweight','Obese'])\n",
    "df['BMI_Category'] = LabelEncoder().fit_transform(df['BMI_Category'])\n",
    "\n",
    "df.drop(['ID'], axis=1, inplace=True, errors='ignore')\n",
    "\n",
    "df = df.dropna(subset=['Health_Issues']).copy()\n",
    "\n",
    "# Encode the target variable\n",
    "le_target = LabelEncoder()\n",
    "df['Health_Issues_encoded'] = le_target.fit_transform(df['Health_Issues'])\n",
    "print(\"Health_Issues encoding:\")\n",
    "for i, val in enumerate(le_target.classes_):\n",
    "    print(f\"  {val}: {i}\")\n",
    "\n",
    "X = df.drop(['Health_Issues', 'Health_Issues_encoded'], axis=1).replace([np.inf, -np.inf], np.nan).fillna(0)\n",
    "y = df['Health_Issues_encoded']\n",
    "\n",
    "from sklearn.model_selection import train_test_split\n",
    "X_train, X_test, y_train, y_test = train_test_split(X, y, test_size=0.2, random_state=42, stratify=y)\n",
    "\n",
    "scaler = joblib.load(\"../outputs/models/scaler.pkl\")\n",
    "X_test = scaler.transform(X_test)"
   ]
  },
  {
   "cell_type": "code",
   "execution_count": 3,
   "id": "750d98ef",
   "metadata": {
    "execution": {
     "iopub.execute_input": "2025-09-30T20:02:18.149009Z",
     "iopub.status.busy": "2025-09-30T20:02:18.148799Z",
     "iopub.status.idle": "2025-09-30T20:02:18.261626Z",
     "shell.execute_reply": "2025-09-30T20:02:18.261056Z"
    }
   },
   "outputs": [],
   "source": [
    "models = {\n",
    "    \"Final Random Forest\": joblib.load(\"../outputs/models/final_health_risk_model.pkl\")\n",
    "}"
   ]
  },
  {
   "cell_type": "code",
   "execution_count": 5,
   "id": "72e9ffed",
   "metadata": {
    "execution": {
     "iopub.execute_input": "2025-09-30T20:02:18.263685Z",
     "iopub.status.busy": "2025-09-30T20:02:18.263512Z",
     "iopub.status.idle": "2025-09-30T20:02:18.569303Z",
     "shell.execute_reply": "2025-09-30T20:02:18.568815Z"
    }
   },
   "outputs": [
    {
     "ename": "NameError",
     "evalue": "name 'le_target' is not defined",
     "output_type": "error",
     "traceback": [
      "\u001b[31m---------------------------------------------------------------------------\u001b[39m",
      "\u001b[31mNameError\u001b[39m                                 Traceback (most recent call last)",
      "\u001b[36mCell\u001b[39m\u001b[36m \u001b[39m\u001b[32mIn[5]\u001b[39m\u001b[32m, line 4\u001b[39m\n\u001b[32m      1\u001b[39m results = {}\n\u001b[32m      3\u001b[39m \u001b[38;5;66;03m# Get class labels for visualization\u001b[39;00m\n\u001b[32m----> \u001b[39m\u001b[32m4\u001b[39m class_labels = \u001b[43mle_target\u001b[49m.classes_\n\u001b[32m      6\u001b[39m \u001b[38;5;28;01mfor\u001b[39;00m name, model \u001b[38;5;129;01min\u001b[39;00m models.items():\n\u001b[32m      7\u001b[39m     y_pred = model.predict(X_test)\n",
      "\u001b[31mNameError\u001b[39m: name 'le_target' is not defined"
     ]
    }
   ],
   "source": [
    "results = {}\n",
    "\n",
    "# Get class labels for visualization\n",
    "class_labels = le_target.classes_\n",
    "\n",
    "for name, model in models.items():\n",
    "    y_pred = model.predict(X_test)\n",
    "    \n",
    "    cm = confusion_matrix(y_test, y_pred)\n",
    "    \n",
    "    cr = classification_report(y_test, y_pred, output_dict=True)\n",
    "    \n",
    "    results[name] = {\n",
    "        \"confusion_matrix\": cm,\n",
    "        \"classification_report\": cr\n",
    "    }\n",
    "    \n",
    "    plt.figure(figsize=(5,4))\n",
    "    sns.heatmap(cm, annot=True, fmt='d', cmap='Blues', xticklabels=class_labels, yticklabels=class_labels)\n",
    "    plt.title(f\"{name} - Confusion Matrix\")\n",
    "    plt.ylabel(\"Actual\")\n",
    "    plt.xlabel(\"Predicted\")\n",
    "    plt.show()\n",
    "    \n",
    "    lb = LabelBinarizer()\n",
    "    y_test_bin = lb.fit_transform(y_test)\n",
    "    \n",
    "    if y_test_bin.shape[1] == 1:  # Binary\n",
    "        y_score = model.predict_proba(X_test)[:,1]\n",
    "        fpr, tpr, _ = roc_curve(y_test_bin, y_score)\n",
    "        roc_auc = auc(fpr, tpr)\n",
    "        plt.plot(fpr, tpr, label=f'{name} (AUC = {roc_auc:.2f})')\n",
    "    else:  \n",
    "        y_score = model.predict_proba(X_test)\n",
    "        for i, class_label in enumerate(lb.classes_):\n",
    "            fpr, tpr, _ = roc_curve(y_test_bin[:, i], y_score[:, i])\n",
    "            roc_auc = auc(fpr, tpr)\n",
    "            plt.plot(fpr, tpr, label=f'{name} - {class_label} (AUC = {roc_auc:.2f})')\n",
    "\n",
    "plt.plot([0,1], [0,1], 'k--')\n",
    "plt.xlabel(\"False Positive Rate\")\n",
    "plt.ylabel(\"True Positive Rate\")\n",
    "plt.title(\"ROC Curves\")\n",
    "plt.legend()\n",
    "plt.show()"
   ]
  },
  {
   "cell_type": "code",
   "execution_count": null,
   "id": "52c470ac",
   "metadata": {
    "execution": {
     "iopub.execute_input": "2025-09-30T20:02:18.571352Z",
     "iopub.status.busy": "2025-09-30T20:02:18.571127Z",
     "iopub.status.idle": "2025-09-30T20:02:18.579817Z",
     "shell.execute_reply": "2025-09-30T20:02:18.579426Z"
    }
   },
   "outputs": [
    {
     "data": {
      "text/html": [
       "<div>\n",
       "<style scoped>\n",
       "    .dataframe tbody tr th:only-of-type {\n",
       "        vertical-align: middle;\n",
       "    }\n",
       "\n",
       "    .dataframe tbody tr th {\n",
       "        vertical-align: top;\n",
       "    }\n",
       "\n",
       "    .dataframe thead th {\n",
       "        text-align: right;\n",
       "    }\n",
       "</style>\n",
       "<table border=\"1\" class=\"dataframe\">\n",
       "  <thead>\n",
       "    <tr style=\"text-align: right;\">\n",
       "      <th></th>\n",
       "      <th>Model</th>\n",
       "      <th>Precision</th>\n",
       "      <th>Recall</th>\n",
       "      <th>F1-Score</th>\n",
       "      <th>Accuracy</th>\n",
       "    </tr>\n",
       "  </thead>\n",
       "  <tbody>\n",
       "    <tr>\n",
       "      <th>0</th>\n",
       "      <td>Final Random Forest</td>\n",
       "      <td>0.996295</td>\n",
       "      <td>0.996305</td>\n",
       "      <td>0.996297</td>\n",
       "      <td>0.996305</td>\n",
       "    </tr>\n",
       "  </tbody>\n",
       "</table>\n",
       "</div>"
      ],
      "text/plain": [
       "                 Model  Precision    Recall  F1-Score  Accuracy\n",
       "0  Final Random Forest   0.996295  0.996305  0.996297  0.996305"
      ]
     },
     "execution_count": 5,
     "metadata": {},
     "output_type": "execute_result"
    }
   ],
   "source": [
    "rows = []\n",
    "for name, result in results.items():\n",
    "    cr = result[\"classification_report\"]\n",
    "    rows.append({\n",
    "        \"Model\": name,\n",
    "        \"Precision\": cr[\"weighted avg\"][\"precision\"],\n",
    "        \"Recall\": cr[\"weighted avg\"][\"recall\"],\n",
    "        \"F1-Score\": cr[\"weighted avg\"][\"f1-score\"],\n",
    "        \"Accuracy\": cr[\"accuracy\"],\n",
    "    })\n",
    "metrics_df = pd.DataFrame(rows).sort_values(by=\"F1-Score\", ascending=False)\n",
    "metrics_df"
   ]
  }
 ],
 "metadata": {
  "kernelspec": {
   "display_name": "base",
   "language": "python",
   "name": "python3"
  },
  "language_info": {
   "codemirror_mode": {
    "name": "ipython",
    "version": 3
   },
   "file_extension": ".py",
   "mimetype": "text/x-python",
   "name": "python",
   "nbconvert_exporter": "python",
   "pygments_lexer": "ipython3",
   "version": "3.12.2"
  }
 },
 "nbformat": 4,
 "nbformat_minor": 5
}
