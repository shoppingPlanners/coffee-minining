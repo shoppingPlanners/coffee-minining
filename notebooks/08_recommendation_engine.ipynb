{
 "cells": [
  {
   "cell_type": "code",
   "execution_count": 1,
   "id": "86f9d103",
   "metadata": {
    "execution": {
     "iopub.execute_input": "2025-09-30T20:02:40.572690Z",
     "iopub.status.busy": "2025-09-30T20:02:40.572354Z",
     "iopub.status.idle": "2025-09-30T20:02:40.953958Z",
     "shell.execute_reply": "2025-09-30T20:02:40.953509Z"
    }
   },
   "outputs": [],
   "source": [
    "import pandas as pd\n",
    "import numpy as np\n",
    "import joblib"
   ]
  },
  {
   "cell_type": "code",
   "execution_count": null,
   "id": "06c2d7b9",
   "metadata": {
    "execution": {
     "iopub.execute_input": "2025-09-30T20:02:40.956571Z",
     "iopub.status.busy": "2025-09-30T20:02:40.956286Z",
     "iopub.status.idle": "2025-09-30T20:02:41.721024Z",
     "shell.execute_reply": "2025-09-30T20:02:41.720457Z"
    }
   },
   "outputs": [],
   "source": [
    "DATA_PATH = \"../data/processed/engineered_coffee_health.csv\"\n",
    "df = pd.read_csv(DATA_PATH)\n",
    "\n",
    "MODEL_PATH = \"../outputs/models/final_health_risk_model.pkl\"\n",
    "model = joblib.load(MODEL_PATH)\n",
    "\n",
    "SCALER_PATH = \"../outputs/models/scaler.pkl\"\n",
    "scaler = joblib.load(SCALER_PATH)\n",
    "expected_features = list(getattr(scaler, 'feature_names_in_', []))"
   ]
  },
  {
   "cell_type": "code",
   "execution_count": null,
   "id": "1da23d15",
   "metadata": {
    "execution": {
     "iopub.execute_input": "2025-09-30T20:02:41.722956Z",
     "iopub.status.busy": "2025-09-30T20:02:41.722723Z",
     "iopub.status.idle": "2025-09-30T20:02:41.726648Z",
     "shell.execute_reply": "2025-09-30T20:02:41.726202Z"
    }
   },
   "outputs": [],
   "source": [
    "def predict_health_risk(user_features: dict):\n",
    "    \"\"\"\n",
    "    Predicts health risk based on user features.\n",
    "    user_features: dict of feature_name -> value\n",
    "    returns: predicted risk level as string\n",
    "    \"\"\"\n",
    "    X = pd.DataFrame([user_features])\n",
    "\n",
    "    if 'BMI' in X:\n",
    "        X['BMI_Category'] = pd.cut(X['BMI'], bins=[0,18.5,24.9,29.9,100], labels=['Underweight','Normal','Overweight','Obese'])\n",
    "        X['BMI_Category'] = X['BMI_Category'].astype('category').cat.codes\n",
    "\n",
    "    if expected_features:\n",
    "        for col in expected_features:\n",
    "            if col not in X.columns:\n",
    "                X[col] = 0\n",
    "        X = X[expected_features]\n",
    "\n",
    "    if scaler:\n",
    "        X_scaled = scaler.transform(X)\n",
    "    else:\n",
    "        X_scaled = X.values\n",
    "    \n",
    "    risk_pred = model.predict(X_scaled)[0]\n",
    "    return risk_pred\n"
   ]
  },
  {
   "cell_type": "code",
   "execution_count": null,
   "id": "10571f36",
   "metadata": {
    "execution": {
     "iopub.execute_input": "2025-09-30T20:02:41.728924Z",
     "iopub.status.busy": "2025-09-30T20:02:41.728595Z",
     "iopub.status.idle": "2025-09-30T20:02:41.735021Z",
     "shell.execute_reply": "2025-09-30T20:02:41.734572Z"
    }
   },
   "outputs": [],
   "source": [
    "def generate_recommendations(user_features: dict):\n",
    "    \"\"\"\n",
    "    Generates personalized lifestyle recommendations based on predicted health risk.\n",
    "    \"\"\"\n",
    "    risk = predict_health_risk(user_features)\n",
    "    recommendations = []\n",
    "\n",
    "    if risk == \"None\":\n",
    "        recommendations.append(\"Maintain current healthy habits.\")\n",
    "        recommendations.append(\"Keep balanced diet, moderate coffee intake, and regular exercise.\")\n",
    "    elif risk == \"Mild\":\n",
    "        recommendations.append(\"Reduce coffee intake and monitor stress levels.\")\n",
    "        recommendations.append(\"Aim for at least 7 hours of sleep daily.\")\n",
    "        recommendations.append(\"Increase light physical activity, like walking or yoga.\")\n",
    "    elif risk == \"Moderate\":\n",
    "        recommendations.append(\"Consult a healthcare professional for personalized advice.\")\n",
    "        recommendations.append(\"Follow a structured diet and exercise plan.\")\n",
    "        recommendations.append(\"Avoid smoking and limit alcohol consumption.\")\n",
    "        recommendations.append(\"Regularly monitor BMI, heart rate, and sleep quality.\")\n",
    "\n",
    "    # Feature-specific advice\n",
    "    if user_features.get(\"Sleep_Hours\", 8) < 6:\n",
    "        recommendations.append(\"Increase sleep to 7–8 hours for better health.\")\n",
    "    if user_features.get(\"Coffee_Intake\", 0) > 3:\n",
    "        recommendations.append(\"Consider reducing coffee intake to 1–2 cups daily.\")\n",
    "    if user_features.get(\"Physical_Activity_Hours\", 0) < 1:\n",
    "        recommendations.append(\"Try to include at least 30 minutes of daily physical activity.\")\n",
    "    if user_features.get(\"BMI\", 22) > 25:\n",
    "        recommendations.append(\"Maintain a healthy weight through diet and exercise.\")\n",
    "\n",
    "    return risk, recommendations"
   ]
  },
  {
   "cell_type": "code",
   "execution_count": 5,
   "id": "100ba8f7",
   "metadata": {
    "execution": {
     "iopub.execute_input": "2025-09-30T20:02:41.736775Z",
     "iopub.status.busy": "2025-09-30T20:02:41.736569Z",
     "iopub.status.idle": "2025-09-30T20:02:41.767526Z",
     "shell.execute_reply": "2025-09-30T20:02:41.766929Z"
    }
   },
   "outputs": [
    {
     "name": "stdout",
     "output_type": "stream",
     "text": [
      "\n",
      "--- Sample User 1 ---\n",
      "Predicted Health Risk: Mild\n",
      "Recommendations:\n",
      "- Reduce coffee intake and monitor stress levels.\n",
      "- Aim for at least 7 hours of sleep daily.\n",
      "- Increase light physical activity, like walking or yoga.\n",
      "\n",
      "--- Sample User 2 ---\n",
      "Predicted Health Risk: Mild\n",
      "Recommendations:\n",
      "- Reduce coffee intake and monitor stress levels.\n",
      "- Aim for at least 7 hours of sleep daily.\n",
      "- Increase light physical activity, like walking or yoga.\n",
      "- Increase sleep to 7–8 hours for better health.\n",
      "- Consider reducing coffee intake to 1–2 cups daily.\n",
      "- Try to include at least 30 minutes of daily physical activity.\n",
      "- Maintain a healthy weight through diet and exercise.\n",
      "\n",
      "--- Sample User 3 ---\n",
      "Predicted Health Risk: Mild\n",
      "Recommendations:\n",
      "- Reduce coffee intake and monitor stress levels.\n",
      "- Aim for at least 7 hours of sleep daily.\n",
      "- Increase light physical activity, like walking or yoga.\n"
     ]
    }
   ],
   "source": [
    "sample_users = [\n",
    "    {\"Age\": 25, \"Gender\": 0, \"Coffee_Intake\": 1, \"Sleep_Hours\": 7, \"BMI\": 22,\n",
    "     \"Physical_Activity_Hours\": 2, \"Stress_Level\": 2, \"Alcohol_Consumption\": 1, \"Smoking\": 0},\n",
    "    \n",
    "    {\"Age\": 40, \"Gender\": 1, \"Coffee_Intake\": 4, \"Sleep_Hours\": 5, \"BMI\": 27,\n",
    "     \"Physical_Activity_Hours\": 0.5, \"Stress_Level\": 4, \"Alcohol_Consumption\": 3, \"Smoking\": 1},\n",
    "    \n",
    "    {\"Age\": 30, \"Gender\": 0, \"Coffee_Intake\": 2, \"Sleep_Hours\": 6, \"BMI\": 24,\n",
    "     \"Physical_Activity_Hours\": 1, \"Stress_Level\": 3, \"Alcohol_Consumption\": 2, \"Smoking\": 0}\n",
    "]\n",
    "\n",
    "for i, user in enumerate(sample_users, 1):\n",
    "    risk, recs = generate_recommendations(user)\n",
    "    print(f\"\\n--- Sample User {i} ---\")\n",
    "    print(\"Predicted Health Risk:\", risk)\n",
    "    print(\"Recommendations:\")\n",
    "    for r in recs:\n",
    "        print(\"-\", r)"
   ]
  },
  {
   "cell_type": "code",
   "execution_count": 6,
   "id": "f6931041",
   "metadata": {
    "execution": {
     "iopub.execute_input": "2025-09-30T20:02:41.769369Z",
     "iopub.status.busy": "2025-09-30T20:02:41.769186Z",
     "iopub.status.idle": "2025-09-30T20:02:41.797644Z",
     "shell.execute_reply": "2025-09-30T20:02:41.796952Z"
    }
   },
   "outputs": [],
   "source": [
    "recommendations_list = []\n",
    "for user in sample_users:\n",
    "    risk, recs = generate_recommendations(user)\n",
    "    recommendations_list.append({\n",
    "        \"User_Features\": user,\n",
    "        \"Predicted_Risk\": risk,\n",
    "        \"Recommendations\": recs\n",
    "    })\n",
    "\n",
    "df_recommendations = pd.DataFrame(recommendations_list)\n",
    "df_recommendations.to_csv(\"../outputs/results/recommendations.csv\", index=False)\n"
   ]
  }
 ],
 "metadata": {
  "kernelspec": {
   "display_name": "Python 3",
   "language": "python",
   "name": "python3"
  },
  "language_info": {
   "codemirror_mode": {
    "name": "ipython",
    "version": 3
   },
   "file_extension": ".py",
   "mimetype": "text/x-python",
   "name": "python",
   "nbconvert_exporter": "python",
   "pygments_lexer": "ipython3",
   "version": "3.13.7"
  }
 },
 "nbformat": 4,
 "nbformat_minor": 5
}
