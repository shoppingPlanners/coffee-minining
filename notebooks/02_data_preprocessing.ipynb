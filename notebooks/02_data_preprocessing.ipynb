{
 "cells": [
  {
   "cell_type": "code",
   "execution_count": 1,
   "id": "006b91ec",
   "metadata": {
    "execution": {
     "iopub.execute_input": "2025-09-30T20:01:34.094105Z",
     "iopub.status.busy": "2025-09-30T20:01:34.093746Z",
     "iopub.status.idle": "2025-09-30T20:01:35.414873Z",
     "shell.execute_reply": "2025-09-30T20:01:35.414342Z"
    }
   },
   "outputs": [
    {
     "name": "stdout",
     "output_type": "stream",
     "text": [
      "Initial shape: (10000, 16)\n",
      "<class 'pandas.core.frame.DataFrame'>\n",
      "RangeIndex: 10000 entries, 0 to 9999\n",
      "Data columns (total 16 columns):\n",
      " #   Column                   Non-Null Count  Dtype  \n",
      "---  ------                   --------------  -----  \n",
      " 0   ID                       10000 non-null  int64  \n",
      " 1   Age                      10000 non-null  int64  \n",
      " 2   Gender                   10000 non-null  object \n",
      " 3   Country                  10000 non-null  object \n",
      " 4   Coffee_Intake            10000 non-null  float64\n",
      " 5   Caffeine_mg              10000 non-null  float64\n",
      " 6   Sleep_Hours              10000 non-null  float64\n",
      " 7   Sleep_Quality            10000 non-null  object \n",
      " 8   BMI                      10000 non-null  float64\n",
      " 9   Heart_Rate               10000 non-null  int64  \n",
      " 10  Stress_Level             10000 non-null  object \n",
      " 11  Physical_Activity_Hours  10000 non-null  float64\n",
      " 12  Health_Issues            4059 non-null   object \n",
      " 13  Occupation               10000 non-null  object \n",
      " 14  Smoking                  10000 non-null  int64  \n",
      " 15  Alcohol_Consumption      10000 non-null  int64  \n",
      "dtypes: float64(5), int64(5), object(6)\n",
      "memory usage: 1.2+ MB\n",
      "None\n",
      "   ID  Age  Gender  Country  Coffee_Intake  Caffeine_mg  Sleep_Hours  \\\n",
      "0   1   40    Male  Germany            3.5        328.1          7.5   \n",
      "1   2   33    Male  Germany            1.0         94.1          6.2   \n",
      "2   3   42    Male   Brazil            5.3        503.7          5.9   \n",
      "3   4   53    Male  Germany            2.6        249.2          7.3   \n",
      "4   5   32  Female    Spain            3.1        298.0          5.3   \n",
      "\n",
      "  Sleep_Quality   BMI  Heart_Rate Stress_Level  Physical_Activity_Hours  \\\n",
      "0          Good  24.9          78          Low                     14.5   \n",
      "1          Good  20.0          67          Low                     11.0   \n",
      "2          Fair  22.7          59       Medium                     11.2   \n",
      "3          Good  24.7          71          Low                      6.6   \n",
      "4          Fair  24.1          76       Medium                      8.5   \n",
      "\n",
      "  Health_Issues Occupation  Smoking  Alcohol_Consumption  \n",
      "0           NaN      Other        0                    0  \n",
      "1           NaN    Service        0                    0  \n",
      "2          Mild     Office        0                    0  \n",
      "3          Mild      Other        0                    0  \n",
      "4          Mild    Student        0                    1  \n"
     ]
    }
   ],
   "source": [
    "import pandas as pd\n",
    "import numpy as np\n",
    "import matplotlib.pyplot as plt\n",
    "import seaborn as sns\n",
    "from sklearn.preprocessing import LabelEncoder, MinMaxScaler\n",
    "\n",
    "DATA_PATH = \"../data/raw/synthetic_coffee_health_10000.csv\"\n",
    "df = pd.read_csv(DATA_PATH)\n",
    "\n",
    "print(\"Initial shape:\", df.shape)\n",
    "print(df.info())\n",
    "print(df.head())"
   ]
  },
  {
   "cell_type": "code",
   "execution_count": 2,
   "id": "96a2b78b",
   "metadata": {
    "execution": {
     "iopub.execute_input": "2025-09-30T20:01:35.416686Z",
     "iopub.status.busy": "2025-09-30T20:01:35.416491Z",
     "iopub.status.idle": "2025-09-30T20:01:35.450637Z",
     "shell.execute_reply": "2025-09-30T20:01:35.450120Z"
    }
   },
   "outputs": [
    {
     "name": "stdout",
     "output_type": "stream",
     "text": [
      "\n",
      "Missing values per column:\n",
      "ID                            0\n",
      "Age                           0\n",
      "Gender                        0\n",
      "Country                       0\n",
      "Coffee_Intake                 0\n",
      "Caffeine_mg                   0\n",
      "Sleep_Hours                   0\n",
      "Sleep_Quality                 0\n",
      "BMI                           0\n",
      "Heart_Rate                    0\n",
      "Stress_Level                  0\n",
      "Physical_Activity_Hours       0\n",
      "Health_Issues              5941\n",
      "Occupation                    0\n",
      "Smoking                       0\n",
      "Alcohol_Consumption           0\n",
      "dtype: int64\n"
     ]
    }
   ],
   "source": [
    "print(\"\\nMissing values per column:\")\n",
    "print(df.isnull().sum())\n",
    "\n",
    "df = df.dropna(how=\"all\")  \n",
    "df = df.fillna(df.median(numeric_only=True))  \n",
    "df = df.fillna(df.mode().iloc[0])             \n"
   ]
  },
  {
   "cell_type": "code",
   "execution_count": 3,
   "id": "ca26dabb",
   "metadata": {
    "execution": {
     "iopub.execute_input": "2025-09-30T20:01:35.452429Z",
     "iopub.status.busy": "2025-09-30T20:01:35.452279Z",
     "iopub.status.idle": "2025-09-30T20:01:35.465718Z",
     "shell.execute_reply": "2025-09-30T20:01:35.465252Z"
    }
   },
   "outputs": [
    {
     "name": "stdout",
     "output_type": "stream",
     "text": [
      "\n",
      "Categorical Columns Unique Values:\n",
      "========================================\n",
      "Gender: 3 unique values\n",
      "  Values: ['Male' 'Female' 'Other']\n",
      "Country: 20 unique values\n",
      "Sleep_Quality: 4 unique values\n",
      "  Values: ['Good' 'Fair' 'Excellent' 'Poor']\n",
      "Stress_Level: 3 unique values\n",
      "  Values: ['Low' 'Medium' 'High']\n",
      "Health_Issues: 3 unique values\n",
      "  Values: ['Mild' 'Moderate' 'Severe']\n",
      "Occupation: 5 unique values\n",
      "  Values: ['Other' 'Service' 'Office' 'Student' 'Healthcare']\n"
     ]
    }
   ],
   "source": [
    "print(\"\\nCategorical Columns Unique Values:\")\n",
    "print(\"=\"*40)\n",
    "categorical_cols = df.select_dtypes(include=['object']).columns\n",
    "for col in categorical_cols:\n",
    "    print(f\"{col}: {df[col].nunique()} unique values\")\n",
    "    if df[col].nunique() <= 10:\n",
    "        print(f\"  Values: {df[col].unique()}\")"
   ]
  },
  {
   "cell_type": "code",
   "execution_count": 4,
   "id": "901f69fc",
   "metadata": {
    "execution": {
     "iopub.execute_input": "2025-09-30T20:01:35.467526Z",
     "iopub.status.busy": "2025-09-30T20:01:35.467366Z",
     "iopub.status.idle": "2025-09-30T20:01:35.498923Z",
     "shell.execute_reply": "2025-09-30T20:01:35.498205Z"
    }
   },
   "outputs": [
    {
     "name": "stdout",
     "output_type": "stream",
     "text": [
      "Duplicates before: 0\n",
      "Duplicates after: 0\n"
     ]
    }
   ],
   "source": [
    "print(\"Duplicates before:\", df.duplicated().sum())\n",
    "df = df.drop_duplicates()\n",
    "print(\"Duplicates after:\", df.duplicated().sum())"
   ]
  },
  {
   "cell_type": "code",
   "execution_count": 5,
   "id": "deceb094",
   "metadata": {
    "execution": {
     "iopub.execute_input": "2025-09-30T20:01:35.501359Z",
     "iopub.status.busy": "2025-09-30T20:01:35.501060Z",
     "iopub.status.idle": "2025-09-30T20:01:35.504859Z",
     "shell.execute_reply": "2025-09-30T20:01:35.504199Z"
    }
   },
   "outputs": [],
   "source": [
    "if \"health_risk\" in df.columns:\n",
    "    df[\"health_risk\"] = df[\"health_risk\"].astype(\"category\")"
   ]
  },
  {
   "cell_type": "code",
   "execution_count": 6,
   "id": "25f2b890",
   "metadata": {
    "execution": {
     "iopub.execute_input": "2025-09-30T20:01:35.508054Z",
     "iopub.status.busy": "2025-09-30T20:01:35.507705Z",
     "iopub.status.idle": "2025-09-30T20:01:35.532598Z",
     "shell.execute_reply": "2025-09-30T20:01:35.532177Z"
    }
   },
   "outputs": [],
   "source": [
    "numeric_cols = df.select_dtypes(include=np.number).columns\n",
    "\n",
    "for col in numeric_cols:\n",
    "    Q1 = df[col].quantile(0.25)\n",
    "    Q3 = df[col].quantile(0.75)\n",
    "    IQR = Q3 - Q1\n",
    "    lower, upper = Q1 - 1.5*IQR, Q3 + 1.5*IQR\n",
    "    df[col] = np.where(df[col] < lower, lower,\n",
    "              np.where(df[col] > upper, upper, df[col]))"
   ]
  },
  {
   "cell_type": "code",
   "execution_count": null,
   "id": "1cc48b1e",
   "metadata": {
    "execution": {
     "iopub.execute_input": "2025-09-30T20:01:35.534584Z",
     "iopub.status.busy": "2025-09-30T20:01:35.534402Z",
     "iopub.status.idle": "2025-09-30T20:01:35.537568Z",
     "shell.execute_reply": "2025-09-30T20:01:35.537053Z"
    }
   },
   "outputs": [],
   "source": [
    "label_encoders = {}\n",
    "for col in df.select_dtypes(include=\"category\").columns:\n",
    "    le = LabelEncoder()\n",
    "    df[col] = le.fit_transform(df[col])\n",
    "    label_encoders[col] = le"
   ]
  },
  {
   "cell_type": "code",
   "execution_count": null,
   "id": "95381b55",
   "metadata": {
    "execution": {
     "iopub.execute_input": "2025-09-30T20:01:35.539333Z",
     "iopub.status.busy": "2025-09-30T20:01:35.539117Z",
     "iopub.status.idle": "2025-09-30T20:01:35.552218Z",
     "shell.execute_reply": "2025-09-30T20:01:35.551343Z"
    }
   },
   "outputs": [],
   "source": [
    "scaler = MinMaxScaler()\n",
    "scaled_cols = df.select_dtypes(include=np.number).columns.drop(\"health_risk\") \\\n",
    "               if \"health_risk\" in df.columns else df.select_dtypes(include=np.number).columns\n",
    "df[scaled_cols] = scaler.fit_transform(df[scaled_cols])\n",
    "\n",
    "df_clean = df.copy()"
   ]
  },
  {
   "cell_type": "code",
   "execution_count": 9,
   "id": "161a93b3",
   "metadata": {
    "execution": {
     "iopub.execute_input": "2025-09-30T20:01:35.556479Z",
     "iopub.status.busy": "2025-09-30T20:01:35.556023Z",
     "iopub.status.idle": "2025-09-30T20:01:35.567038Z",
     "shell.execute_reply": "2025-09-30T20:01:35.566211Z"
    }
   },
   "outputs": [
    {
     "name": "stdout",
     "output_type": "stream",
     "text": [
      "Health_Issues encoding:\n",
      "  Mild: 0\n",
      "  Moderate: 1\n",
      "  Severe: 2\n"
     ]
    }
   ],
   "source": [
    "if \"Health_Issues\" in df_clean.columns:\n",
    "    le_target = LabelEncoder()\n",
    "    df_clean['Health_Issues_encoded'] = le_target.fit_transform(df_clean['Health_Issues'])\n",
    "    print(\"Health_Issues encoding:\")\n",
    "    for i, val in enumerate(le_target.classes_):\n",
    "        print(f\"  {val}: {i}\")"
   ]
  },
  {
   "cell_type": "code",
   "execution_count": 10,
   "id": "af00c549",
   "metadata": {
    "execution": {
     "iopub.execute_input": "2025-09-30T20:01:35.570542Z",
     "iopub.status.busy": "2025-09-30T20:01:35.570172Z",
     "iopub.status.idle": "2025-09-30T20:01:35.575330Z",
     "shell.execute_reply": "2025-09-30T20:01:35.574218Z"
    }
   },
   "outputs": [],
   "source": [
    "\n",
    "\n",
    "# # Check for duplicates\n",
    "# print(f\"Duplicate rows: {df_clean.duplicated().sum()}\")\n",
    "\n",
    "# # Remove duplicates if any\n",
    "# df_clean = df_clean.drop_duplicates()\n",
    "# print(f\"Dataset shape after removing duplicates: {df_clean.shape}\")\n",
    "\n",
    "# # Check for outliers in numerical columns\n",
    "# numerical_cols = df_clean.select_dtypes(include=[np.number]).columns\n",
    "# print(\"\\nOutlier Analysis:\")\n",
    "# print(\"=\"*30)\n",
    "\n",
    "# for col in numerical_cols:\n",
    "#     Q1 = df_clean[col].quantile(0.25)\n",
    "#     Q3 = df_clean[col].quantile(0.75)\n",
    "#     IQR = Q3 - Q1\n",
    "#     lower_bound = Q1 - 1.5 * IQR\n",
    "#     upper_bound = Q3 + 1.5 * IQR\n",
    "#     outliers = df_clean[(df_clean[col] < lower_bound) | (df_clean[col] > upper_bound)]\n",
    "#     print(f\"{col}: {len(outliers)} outliers ({len(outliers)/len(df_clean)*100:.2f}%)\")\n"
   ]
  },
  {
   "cell_type": "code",
   "execution_count": 11,
   "id": "a14fa199",
   "metadata": {
    "execution": {
     "iopub.execute_input": "2025-09-30T20:01:35.578729Z",
     "iopub.status.busy": "2025-09-30T20:01:35.578372Z",
     "iopub.status.idle": "2025-09-30T20:01:35.583488Z",
     "shell.execute_reply": "2025-09-30T20:01:35.582442Z"
    }
   },
   "outputs": [],
   "source": [
    "# # Handle categorical variables - encode them\n",
    "# le_dict = {}\n",
    "\n",
    "# for col in categorical_cols:\n",
    "#     if col != 'Health_Issues':  # Don't encode target variable yet\n",
    "#         le = LabelEncoder()\n",
    "#         df_clean[col + '_encoded'] = le.fit_transform(df_clean[col])\n",
    "#         le_dict[col] = le\n",
    "#         print(f\"{col} encoding:\")\n",
    "#         for i, val in enumerate(le.classes_):\n",
    "#             print(f\"  {val}: {i}\")\n",
    "#         print()\n",
    "\n",
    "# # Encode target variable\n",
    "# le_target = LabelEncoder()\n",
    "# df_clean['Health_Issues_encoded'] = le_target.fit_transform(df_clean['Health_Issues'])\n",
    "# print(\"Health_Issues encoding:\")\n",
    "# for i, val in enumerate(le_target.classes_):\n",
    "#     print(f\"  {val}: {i}\")\n"
   ]
  },
  {
   "cell_type": "code",
   "execution_count": 12,
   "id": "dce5d24e",
   "metadata": {
    "execution": {
     "iopub.execute_input": "2025-09-30T20:01:35.586843Z",
     "iopub.status.busy": "2025-09-30T20:01:35.586510Z",
     "iopub.status.idle": "2025-09-30T20:01:35.760738Z",
     "shell.execute_reply": "2025-09-30T20:01:35.760292Z"
    }
   },
   "outputs": [
    {
     "name": "stdout",
     "output_type": "stream",
     "text": [
      "\n",
      "Cleaned dataset saved to ../data/processed/coffee_health_cleaned.csv\n",
      "Final shape: (10000, 16)\n"
     ]
    }
   ],
   "source": [
    "OUTPUT_PATH = \"../data/processed/coffee_health_cleaned.csv\"\n",
    "df.to_csv(OUTPUT_PATH, index=False)\n",
    "\n",
    "print(f\"\\nCleaned dataset saved to {OUTPUT_PATH}\")\n",
    "print(\"Final shape:\", df.shape)"
   ]
  }
 ],
 "metadata": {
  "kernelspec": {
   "display_name": "Python 3",
   "language": "python",
   "name": "python3"
  },
  "language_info": {
   "codemirror_mode": {
    "name": "ipython",
    "version": 3
   },
   "file_extension": ".py",
   "mimetype": "text/x-python",
   "name": "python",
   "nbconvert_exporter": "python",
   "pygments_lexer": "ipython3",
   "version": "3.13.3"
  }
 },
 "nbformat": 4,
 "nbformat_minor": 5
}
